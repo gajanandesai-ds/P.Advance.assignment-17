{
 "cells": [
  {
   "cell_type": "raw",
   "id": "f9ab0390",
   "metadata": {},
   "source": [
    "Q1. Explain the difference between greedy and non-greedy syntax with visual terms in as few words\n",
    "as possible. What is the bare minimum effort required to transform a greedy pattern into a non-greedy\n",
    "one? What characters or characters can you introduce or change?"
   ]
  },
  {
   "cell_type": "raw",
   "id": "2443d84c",
   "metadata": {},
   "source": [
    "ans:  So the differnce between the greedy and non-greedy match is the following. The greedy match will try to match as many repitions of the quantified pattern as possible.The non-greedy match will try to match as few repetitions of the quantified pattern as possible.\n",
    "\n",
    "\n",
    "the bare minimum effort required to transform a greedy pattern into a non-greedy one can be just implemented by using a single charcter.The? operand makes match non-greedy. E.g..*id greedy while.*?isn't."
   ]
  },
  {
   "cell_type": "code",
   "execution_count": null,
   "id": "8c11ddb6",
   "metadata": {},
   "outputs": [],
   "source": []
  },
  {
   "cell_type": "code",
   "execution_count": null,
   "id": "71102a0c",
   "metadata": {},
   "outputs": [],
   "source": []
  },
  {
   "cell_type": "raw",
   "id": "92c2c8d6",
   "metadata": {},
   "source": [
    "Q2. When exactly does greedy versus non-greedy make a difference?  What if you&#39;re looking for a\n",
    "non-greedy match but the only one available is greedy?"
   ]
  },
  {
   "cell_type": "raw",
   "id": "17e3660d",
   "metadata": {},
   "source": [
    "ans:  So the difference between the greedy and the non-greedy match is the following. The greesy match will try to matche as many repetitions of the quantified pattern as possible. The non-greedy match will try to match as few repetitons of the quantified pattern as possible.\n",
    "\n",
    "\n",
    "ex. To make the qusntitifier non-greedy you simply follow it with a \"?\" the first 3 charcters and then the following 'ab' is matched. greedy by appending a \"?\" symbol to them: *?, +?, ??, {n,m)?{n,}?.\n",
    "\n",
    "\n",
    "if we are looking for a non-greedy match but the only one available greedy that will result in matchhing the shortest possible string."
   ]
  },
  {
   "cell_type": "raw",
   "id": "0b27c151",
   "metadata": {},
   "source": []
  },
  {
   "cell_type": "code",
   "execution_count": null,
   "id": "d56cc1c4",
   "metadata": {},
   "outputs": [],
   "source": []
  },
  {
   "cell_type": "code",
   "execution_count": null,
   "id": "db30f642",
   "metadata": {},
   "outputs": [],
   "source": []
  },
  {
   "cell_type": "raw",
   "id": "b8c97bbe",
   "metadata": {},
   "source": [
    "Q3. In a simple match of a string, which looks only for one match and does not do any replacement, is\n",
    "the use of a nontagged group likely to make any practical difference?"
   ]
  },
  {
   "cell_type": "raw",
   "id": "ef5ee918",
   "metadata": {},
   "source": [
    "ans:  yes it might do."
   ]
  },
  {
   "cell_type": "code",
   "execution_count": null,
   "id": "6e3cd2a5",
   "metadata": {},
   "outputs": [],
   "source": []
  },
  {
   "cell_type": "code",
   "execution_count": null,
   "id": "1d18acd0",
   "metadata": {},
   "outputs": [],
   "source": []
  },
  {
   "cell_type": "raw",
   "id": "5b32e401",
   "metadata": {},
   "source": [
    "Q4. Describe a scenario in which using a nontagged category would have a significant impact on the\n",
    "program's outcomes."
   ]
  },
  {
   "cell_type": "code",
   "execution_count": 1,
   "id": "09de9e7c",
   "metadata": {},
   "outputs": [
    {
     "name": "stdout",
     "output_type": "stream",
     "text": [
      "['1', '0', '1', '9', '1', '9', '9', '4']\n",
      "['10', '19', '1994']\n"
     ]
    }
   ],
   "source": [
    "import re\n",
    "\n",
    "p = re. compile('\\d')\n",
    "print(p.findall(\"I went ti him at 10 a.m on 19 jan 1994\"))\n",
    "\n",
    "\n",
    "p = re.compile('\\d+')\n",
    "print(p.findall(\"I went to himat 10 a.m on 19 jan 1994\"))"
   ]
  },
  {
   "cell_type": "code",
   "execution_count": null,
   "id": "3b5c3357",
   "metadata": {},
   "outputs": [],
   "source": []
  },
  {
   "cell_type": "code",
   "execution_count": null,
   "id": "c902b718",
   "metadata": {},
   "outputs": [],
   "source": []
  },
  {
   "cell_type": "raw",
   "id": "1cfdc44d",
   "metadata": {},
   "source": [
    "Q5. Unlike a normal regex pattern, a look-ahead condition does not consume the characters it\n",
    "examines. Describe a situation in which this could make a difference in the results of your\n",
    "programme."
   ]
  },
  {
   "cell_type": "raw",
   "id": "50832979",
   "metadata": {},
   "source": [
    "ans: while the order of lookheads doesnt matter on a logical level, we should keep in mind that it may matter for matching speed. if one lookahead is more likely to fall than the other two. it makes tittle sense to palce it in third position and expend a lot of enery checking the first condition make it first, so that if we are going to fall we fall early -- and application of the design to fall principale from the regex style guide."
   ]
  },
  {
   "cell_type": "code",
   "execution_count": null,
   "id": "1723dbe7",
   "metadata": {},
   "outputs": [],
   "source": []
  },
  {
   "cell_type": "code",
   "execution_count": null,
   "id": "d6db566a",
   "metadata": {},
   "outputs": [],
   "source": []
  },
  {
   "cell_type": "raw",
   "id": "3c445bdb",
   "metadata": {},
   "source": [
    "Q6. In standard expressions, what is the difference between positive look-ahead and negative look-\n",
    "ahead?"
   ]
  },
  {
   "cell_type": "raw",
   "id": "661728f2",
   "metadata": {},
   "source": [
    "ans: \n",
    "Positive lookhead: ( ? = << pattern >> ) matches if pattern matches what comes after the current location in the input string.\n",
    "\n",
    "Nagative lookahead : ( ?  ! << pattern >> ) matches if pattern does not match what comes after the current location in the input string."
   ]
  },
  {
   "cell_type": "code",
   "execution_count": null,
   "id": "de3f55cd",
   "metadata": {},
   "outputs": [],
   "source": []
  },
  {
   "cell_type": "code",
   "execution_count": null,
   "id": "a50eb767",
   "metadata": {},
   "outputs": [],
   "source": []
  },
  {
   "cell_type": "raw",
   "id": "2f8445f1",
   "metadata": {},
   "source": [
    "Q7. What is the benefit of referring to groups by name rather than by number in a standard\n",
    "expression?"
   ]
  },
  {
   "cell_type": "raw",
   "id": "14744e66",
   "metadata": {},
   "source": [
    "ans: The advantages to named group is that it adds readbility and understandbility to the code, so that we can easily see what part of a regular expression match is being refernced."
   ]
  },
  {
   "cell_type": "code",
   "execution_count": null,
   "id": "6c008766",
   "metadata": {},
   "outputs": [],
   "source": []
  },
  {
   "cell_type": "code",
   "execution_count": null,
   "id": "a8643ac7",
   "metadata": {},
   "outputs": [],
   "source": []
  },
  {
   "cell_type": "raw",
   "id": "9acc7b5d",
   "metadata": {},
   "source": [
    "Q8. Can you identify repeated items within a target string using named groups, as in &quot;The cow\n",
    "jumped over the moon'?"
   ]
  },
  {
   "cell_type": "raw",
   "id": "32cfa4df",
   "metadata": {},
   "source": [
    "ans: In this particular scenario it may be posiible by checking it wu=ith the + tag in regex go check for one or more occurance."
   ]
  },
  {
   "cell_type": "code",
   "execution_count": null,
   "id": "2dd1950b",
   "metadata": {},
   "outputs": [],
   "source": []
  },
  {
   "cell_type": "code",
   "execution_count": null,
   "id": "2b323ad5",
   "metadata": {},
   "outputs": [],
   "source": []
  },
  {
   "cell_type": "raw",
   "id": "9e554227",
   "metadata": {},
   "source": [
    "Q9. When parsing a string, what is at least one thing that the Scanner interface does for you that the\n",
    "re.findall feature does not?"
   ]
  },
  {
   "cell_type": "raw",
   "id": "6af696b8",
   "metadata": {},
   "source": [
    "and: search () method is able to find a pattern from any position of the string. The re. it searches from start or end of the given string. if we use method findall to search for a pattern in a given string it will return all occurance of the pattern."
   ]
  },
  {
   "cell_type": "code",
   "execution_count": null,
   "id": "431be1b8",
   "metadata": {},
   "outputs": [],
   "source": []
  },
  {
   "cell_type": "code",
   "execution_count": null,
   "id": "586e7632",
   "metadata": {},
   "outputs": [],
   "source": []
  },
  {
   "cell_type": "raw",
   "id": "a96c3fb4",
   "metadata": {},
   "source": [
    "Q10. Does a scanner object have to be named scanner?"
   ]
  },
  {
   "cell_type": "raw",
   "id": "75feb6f9",
   "metadata": {},
   "source": [
    "ans: The scan module is part of the microscopy package. it provides a framework for multidinational scanning routing while acquaring data. Not mandotory to keep the same name."
   ]
  },
  {
   "cell_type": "code",
   "execution_count": null,
   "id": "47a707c4",
   "metadata": {},
   "outputs": [],
   "source": []
  },
  {
   "cell_type": "code",
   "execution_count": null,
   "id": "e40089e4",
   "metadata": {},
   "outputs": [],
   "source": []
  }
 ],
 "metadata": {
  "kernelspec": {
   "display_name": "Python 3",
   "language": "python",
   "name": "python3"
  },
  "language_info": {
   "codemirror_mode": {
    "name": "ipython",
    "version": 3
   },
   "file_extension": ".py",
   "mimetype": "text/x-python",
   "name": "python",
   "nbconvert_exporter": "python",
   "pygments_lexer": "ipython3",
   "version": "3.8.8"
  }
 },
 "nbformat": 4,
 "nbformat_minor": 5
}
